{
 "cells": [
  {
   "cell_type": "markdown",
   "metadata": {},
   "source": [
    "#### 1. Write a function so that the columns of the output matrix are powers of the input vector. The order of the powers is determined by the increasing boolean argument. Specifically, when increasing is False, the i-th output column is the input vector raised element-wise to the power of N - i - 1. HINT: Such a matrix with a geometric progression in each row is named for Alexandre-Theophile Vandermonde."
   ]
  },
  {
   "cell_type": "code",
   "execution_count": 52,
   "metadata": {},
   "outputs": [],
   "source": [
    "import numpy as np\n",
    "ipvector = np.array([2, 3, 4,5, 6])\n",
    "n = 3"
   ]
  },
  {
   "cell_type": "code",
   "execution_count": 53,
   "metadata": {
    "scrolled": true
   },
   "outputs": [],
   "source": [
    "def vendor_matrix(ip_vector,num_col, increasing=False):\n",
    "    ven_mat = []\n",
    "    for j in ipvector:\n",
    "        for i in range(n):\n",
    "            if not increasing:\n",
    "                ven_mat.append(j**(n-1-i))\n",
    "            elif increasing:\n",
    "                ven_mat.append(j**i)\n",
    "    ven_mat=(np.array(ven_mat).reshape(ip_vector.size, num_col))\n",
    "    return ven_mat\n",
    "#op_matx = np.array([x**(n-1-i) for x in ipvector for i in range(n)]).reshape(ipvector.size,n)"
   ]
  },
  {
   "cell_type": "code",
   "execution_count": 54,
   "metadata": {},
   "outputs": [
    {
     "data": {
      "text/plain": [
       "array([[ 4,  2,  1],\n",
       "       [ 9,  3,  1],\n",
       "       [16,  4,  1],\n",
       "       [25,  5,  1],\n",
       "       [36,  6,  1]])"
      ]
     },
     "execution_count": 54,
     "metadata": {},
     "output_type": "execute_result"
    }
   ],
   "source": [
    "vendor_matrix(ipvector,3)"
   ]
  },
  {
   "cell_type": "code",
   "execution_count": 55,
   "metadata": {},
   "outputs": [
    {
     "data": {
      "text/plain": [
       "array([[ 1,  2,  4],\n",
       "       [ 1,  3,  9],\n",
       "       [ 1,  4, 16],\n",
       "       [ 1,  5, 25],\n",
       "       [ 1,  6, 36]])"
      ]
     },
     "execution_count": 55,
     "metadata": {},
     "output_type": "execute_result"
    }
   ],
   "source": [
    "vendor_matrix(ipvector,3,increasing = True)"
   ]
  },
  {
   "cell_type": "markdown",
   "metadata": {},
   "source": [
    "#### 2. Given a sequence of n values x1, x2, ..., xn and a window size k>0, the k-th moving average of the given sequence is defined as follows: The moving average sequence has n-k+1 elements as shown below."
   ]
  },
  {
   "cell_type": "code",
   "execution_count": 87,
   "metadata": {},
   "outputs": [
    {
     "name": "stdout",
     "output_type": "stream",
     "text": [
      "y1 = 5.0\n",
      "y2 = 4.666666666666667\n",
      "y3 = 5.666666666666667\n",
      "y4 = 6.666666666666667\n",
      "y5 = 9.666666666666666\n",
      "y6 = 28.666666666666668\n",
      "y7 = 49.333333333333336\n",
      "y8 = 72.66666666666667\n",
      "y9 = 84.0\n",
      "y10 = 93.33333333333333\n",
      "y11 = 116.33333333333333\n"
     ]
    }
   ],
   "source": [
    "import numpy as np\n",
    "def mov_avg(seq, k) :\n",
    "    n = len(seq)-k+1\n",
    "    for i in range(n):\n",
    "        sum=0\n",
    "        for j in range(k):\n",
    "            sum=sum+seq[j+i]\n",
    "        print(\"y\"+str(i+1)+\" = \"+str(sum/k))  \n",
    "seq = [3, 5, 7, 2, 8, 10, 11, 65, 72, 81, 99, 100, 150]\n",
    "\n",
    "mov_avg(seq,3)"
   ]
  },
  {
   "cell_type": "code",
   "execution_count": null,
   "metadata": {},
   "outputs": [],
   "source": []
  }
 ],
 "metadata": {
  "kernelspec": {
   "display_name": "Python 3",
   "language": "python",
   "name": "python3"
  },
  "language_info": {
   "codemirror_mode": {
    "name": "ipython",
    "version": 3
   },
   "file_extension": ".py",
   "mimetype": "text/x-python",
   "name": "python",
   "nbconvert_exporter": "python",
   "pygments_lexer": "ipython3",
   "version": "3.7.6"
  }
 },
 "nbformat": 4,
 "nbformat_minor": 4
}
