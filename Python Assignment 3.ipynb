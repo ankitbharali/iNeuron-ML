{
 "cells": [
  {
   "cell_type": "markdown",
   "metadata": {},
   "source": [
    "#### 1.1 Write a python to implement your own myreduce() function which works exactly like python's built in function reduce()"
   ]
  },
  {
   "cell_type": "code",
   "execution_count": 6,
   "metadata": {},
   "outputs": [
    {
     "data": {
      "text/plain": [
       "10"
      ]
     },
     "execution_count": 6,
     "metadata": {},
     "output_type": "execute_result"
    }
   ],
   "source": [
    "from functools import reduce\n",
    "def sum(a,b):\n",
    "    a,b = b,a+b\n",
    "    return b\n",
    "\n",
    "def myreduce(func, seq):\n",
    "    f = seq[0]\n",
    "    for i in seq[1:]:\n",
    "        f = func(f,i)\n",
    "    return f\n",
    "\n",
    "l_list = [1,2,3,4]\n",
    "myreduce(sum, l_list)"
   ]
  },
  {
   "cell_type": "markdown",
   "metadata": {},
   "source": [
    "#### 1.2 Write a python program to implement your own myfilter() function which works exactly like Python's built in function filter()"
   ]
  },
  {
   "cell_type": "code",
   "execution_count": 77,
   "metadata": {},
   "outputs": [
    {
     "data": {
      "text/plain": [
       "[2, 4, 6]"
      ]
     },
     "execution_count": 77,
     "metadata": {},
     "output_type": "execute_result"
    }
   ],
   "source": [
    "l_list1 = [2,4,6]\n",
    "list(filter(lambda x:x%2==0, l_list1))"
   ]
  },
  {
   "cell_type": "code",
   "execution_count": 108,
   "metadata": {},
   "outputs": [
    {
     "data": {
      "text/plain": [
       "[2, 4, 6]"
      ]
     },
     "execution_count": 108,
     "metadata": {},
     "output_type": "execute_result"
    }
   ],
   "source": [
    "def even_number(n):\n",
    "    if n%2==0:\n",
    "        return n\n",
    "    \n",
    "def myfilter(func_filter, seq_filter):\n",
    "    fil_list3 =[]\n",
    "    for j in seq_filter:\n",
    "        fil_list2= even_number(j)\n",
    "        fil_list3.append(fil_list2)\n",
    "    return fil_list3\n",
    "\n",
    "myfilter(even_number,l_list1)"
   ]
  },
  {
   "cell_type": "markdown",
   "metadata": {},
   "source": [
    "#### 2. Implement list comprehensions to produce the following lists. Write list comprehensions to produce the following lists"
   ]
  },
  {
   "cell_type": "code",
   "execution_count": 134,
   "metadata": {},
   "outputs": [
    {
     "name": "stdout",
     "output_type": "stream",
     "text": [
      "['x', 'xx', 'xxx', 'xxxx', 'y', 'yy', 'yyy', 'yyyy', 'z', 'zz', 'zzz', 'zzzz']\n"
     ]
    }
   ],
   "source": [
    "input_1 = ['x','y','z']\n",
    "result_1 = [ item*n for item in input_1 for n in range(1,5)  ]\n",
    "print(str(result_1))"
   ]
  },
  {
   "cell_type": "code",
   "execution_count": 135,
   "metadata": {},
   "outputs": [
    {
     "name": "stdout",
     "output_type": "stream",
     "text": [
      "['x', 'y', 'z', 'xx', 'yy', 'zz', 'xxx', 'yyy', 'zzz', 'xxxx', 'yyyy', 'zzzz']\n"
     ]
    }
   ],
   "source": [
    "input_2 = ['x','y','z']\n",
    "result_2 = [ item*num for num in range(1,5) for item in input_2  ]\n",
    "print(str(result_2))"
   ]
  },
  {
   "cell_type": "code",
   "execution_count": 140,
   "metadata": {},
   "outputs": [
    {
     "name": "stdout",
     "output_type": "stream",
     "text": [
      "[[2], [3], [4], [3], [4], [5], [4], [5], [6]][[2, 3, 4, 5], [3, 4, 5, 6]]\n"
     ]
    }
   ],
   "source": [
    "result_3_1 = [[x+y] for x in range(2,5) for y in range(3)]\n",
    "result_3_2 = [[item+num for item in [2,3,4,5]] for num in range(0,2)  ]\n",
    "print(str(result_3_1)+str(result_3_2))"
   ]
  },
  {
   "cell_type": "code",
   "execution_count": 141,
   "metadata": {},
   "outputs": [
    {
     "name": "stdout",
     "output_type": "stream",
     "text": [
      "[[4, 5, 6, 7], [5, 6, 7, 8]]\n"
     ]
    }
   ],
   "source": [
    "input_4 = [4,5,6,7]\n",
    "result_4 = [ [item+num for item in input_4] for num in range(0,2)  ]\n",
    "print(str(result_4))"
   ]
  },
  {
   "cell_type": "code",
   "execution_count": 142,
   "metadata": {},
   "outputs": [
    {
     "name": "stdout",
     "output_type": "stream",
     "text": [
      "[(1, 1), (2, 1), (3, 1), (1, 2), (2, 2), (3, 2), (1, 3), (2, 3), (3, 3)]\n"
     ]
    }
   ],
   "source": [
    "input_5=[1,2,3]\n",
    "result_5 = [ (b,a) for a in input_5 for b in input_5]\n",
    "print(str(result_5))"
   ]
  },
  {
   "cell_type": "code",
   "execution_count": null,
   "metadata": {},
   "outputs": [],
   "source": []
  }
 ],
 "metadata": {
  "kernelspec": {
   "display_name": "Python 3",
   "language": "python",
   "name": "python3"
  },
  "language_info": {
   "codemirror_mode": {
    "name": "ipython",
    "version": 3
   },
   "file_extension": ".py",
   "mimetype": "text/x-python",
   "name": "python",
   "nbconvert_exporter": "python",
   "pygments_lexer": "ipython3",
   "version": "3.7.6"
  }
 },
 "nbformat": 4,
 "nbformat_minor": 4
}
